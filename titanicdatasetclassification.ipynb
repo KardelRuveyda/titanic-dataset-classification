{
  "nbformat": 4,
  "nbformat_minor": 0,
  "metadata": {
    "colab": {
      "name": "titanicdatasetclassification.ipynb",
      "provenance": [],
      "authorship_tag": "ABX9TyPL3i1UcvJng2Oi69+4KDSF",
      "include_colab_link": true
    },
    "kernelspec": {
      "name": "python3",
      "display_name": "Python 3"
    }
  },
  "cells": [
    {
      "cell_type": "markdown",
      "metadata": {
        "id": "view-in-github",
        "colab_type": "text"
      },
      "source": [
        "<a href=\"https://colab.research.google.com/github/KardelRuveyda/titanicdatasetclassification/blob/master/titanicdatasetclassification.ipynb\" target=\"_parent\"><img src=\"https://colab.research.google.com/assets/colab-badge.svg\" alt=\"Open In Colab\"/></a>"
      ]
    },
    {
      "cell_type": "markdown",
      "metadata": {
        "id": "mLF7HCpcg4nE",
        "colab_type": "text"
      },
      "source": [
        "# Drive etkinleştirmek için"
      ]
    },
    {
      "cell_type": "code",
      "metadata": {
        "id": "0_tQVcf7guA2",
        "colab_type": "code",
        "colab": {
          "base_uri": "https://localhost:8080/",
          "height": 122
        },
        "outputId": "3f8aaf46-e8d8-4ccf-a25b-2b9653504261"
      },
      "source": [
        "from google.colab import drive\n",
        "drive.mount('/content/drive/')"
      ],
      "execution_count": 1,
      "outputs": [
        {
          "output_type": "stream",
          "text": [
            "Go to this URL in a browser: https://accounts.google.com/o/oauth2/auth?client_id=947318989803-6bn6qk8qdgf4n4g3pfee6491hc0brc4i.apps.googleusercontent.com&redirect_uri=urn%3aietf%3awg%3aoauth%3a2.0%3aoob&response_type=code&scope=email%20https%3a%2f%2fwww.googleapis.com%2fauth%2fdocs.test%20https%3a%2f%2fwww.googleapis.com%2fauth%2fdrive%20https%3a%2f%2fwww.googleapis.com%2fauth%2fdrive.photos.readonly%20https%3a%2f%2fwww.googleapis.com%2fauth%2fpeopleapi.readonly\n",
            "\n",
            "Enter your authorization code:\n",
            "··········\n",
            "Mounted at /content/drive/\n"
          ],
          "name": "stdout"
        }
      ]
    },
    {
      "cell_type": "markdown",
      "metadata": {
        "id": "1y7S5RkZhTAV",
        "colab_type": "text"
      },
      "source": [
        "# NUMPY,PANDAS,SEABORN KÜTÜPHANELERİNİN YÜKLENMESİ"
      ]
    },
    {
      "cell_type": "code",
      "metadata": {
        "id": "D3KbNC0bhUgQ",
        "colab_type": "code",
        "colab": {}
      },
      "source": [
        "import pandas as pd\n",
        "import numpy as np\n",
        "import matplotlib.pyplot as plt\n",
        "import csv\n",
        "import re\n",
        "\n",
        "from keras.models import Sequential\n",
        "from keras.layers import Dense, Activation\n",
        "from keras.callbacks import ModelCheckpoint\n",
        "from keras.optimizers import Adam"
      ],
      "execution_count": 0,
      "outputs": []
    },
    {
      "cell_type": "markdown",
      "metadata": {
        "id": "XIRxoRJ_kPTU",
        "colab_type": "text"
      },
      "source": [
        "- Ön işlemlerle ilgili olan kısımda öncelikle bir fonksiyon oluşturulması gerekmektedir. Buna ön işlemler fonksiyonu da denilebilir. “def” ile fonksiyon tanımlanır. \n",
        "- Bir takım ön işlemler yapılması gerekir. Data da olan ve kullanılması gereken bazı bilgiler ile bu işlem gerçekleştirilir. \n",
        "- “fillna()” boşluk veri varsa doldurulmasını sağlayacaktır. Çünkü verinin içinde bazı eksik bilgiler yer alabilir. \n",
        "- Cinsiyet bir tam sayıya çevirilecektir. Kadın olanlar 1 ; erkek olanlar ise 2 olacak şekilde sayıya çevrilir. \n",
        "-3 farklı şehir için de veriler tam sayıya çevirilmelidir. Bu işlemler replace ile gerçekleştirilir. \n",
        "- Veri içerisinde yaş bilgisi olanlar da var olmayanlar da var. Bu bilgiler boş da bırakılabilir. Ancak median ile beraber yaş da atanabilir. Ve genel ortamın bozulmaması sağlanır. \n",
        "- Yaş , ücret, şehir bilgisi ile ilgili kısımlarda bu işlem gerçekleştirilmiştir. Eğer hiçbir şey ile doldurulmak istemezse silinebilir.\n"
      ]
    },
    {
      "cell_type": "code",
      "metadata": {
        "id": "f6GhSr_4oSII",
        "colab_type": "code",
        "colab": {}
      },
      "source": [
        "# ÖN İŞLEMLER\n",
        "\n",
        "def preprocess(data):\n",
        "    \n",
        "    #Kabin\n",
        "    data.Cabin.fillna('0', inplace=True)\n",
        "    data.loc[data.Cabin.str[0] == 'A', 'Cabin'] = 1\n",
        "    data.loc[data.Cabin.str[0] == 'B', 'Cabin'] = 2\n",
        "    data.loc[data.Cabin.str[0] == 'C', 'Cabin'] = 3\n",
        "    data.loc[data.Cabin.str[0] == 'D', 'Cabin'] = 4\n",
        "    data.loc[data.Cabin.str[0] == 'E', 'Cabin'] = 5\n",
        "    data.loc[data.Cabin.str[0] == 'F', 'Cabin'] = 6\n",
        "    data.loc[data.Cabin.str[0] == 'G', 'Cabin'] = 7\n",
        "    data.loc[data.Cabin.str[0] == 'T', 'Cabin'] = 8\n",
        "    \n",
        "    # Cinsiyeti tam sayıya çevirelim\n",
        "    data['Sex'].replace('female', 1, inplace=True)\n",
        "    data['Sex'].replace('male', 2, inplace=True)\n",
        "    \n",
        "    # Gemiye biniş limanlarını tam sayıya çevirelim\n",
        "    data['Embarked'].replace('S', 1, inplace=True)\n",
        "    data['Embarked'].replace('C', 2, inplace=True)\n",
        "    data['Embarked'].replace('Q', 3, inplace=True)\n",
        "    \n",
        "    # Olmayan (NA) yaş değerlerini medyan ile dolduralım\n",
        "    data['Age'].fillna(data['Age'].median(), inplace=True)\n",
        "    data['Fare'].fillna(data['Fare'].median(), inplace=True)\n",
        "    data['Embarked'].fillna(data['Embarked'].median(), inplace=True)\n",
        "    \n",
        "    # İstersek olmayan (NA) değerleri tamamen silebiliriz\n",
        "    # data.dropna(subset=['Fare', 'Embarked'], inplace=True, how='any')\n",
        "    return data"
      ],
      "execution_count": 0,
      "outputs": []
    },
    {
      "cell_type": "code",
      "metadata": {
        "id": "NobFfAgQoXk5",
        "colab_type": "code",
        "colab": {}
      },
      "source": [
        "def group_titles(data):\n",
        "    data['Names'] = data['Name'].map(lambda x: len(re.split(' ', x)))\n",
        "    data['Title'] = data['Name'].map(lambda x: re.search(', (.+?) ', x).group(1))\n",
        "    data['Title'].replace('Master.', 0, inplace=True)\n",
        "    data['Title'].replace('Mr.', 1, inplace=True)\n",
        "    data['Title'].replace(['Ms.','Mlle.', 'Miss.'], 2, inplace=True)\n",
        "    data['Title'].replace(['Mme.', 'Mrs.'], 3, inplace=True)\n",
        "    data['Title'].replace(['Dona.', 'Lady.', 'the Countess.', 'Capt.', 'Col.', 'Don.', 'Dr.', 'Major.', 'Rev.', 'Sir.', 'Jonkheer.', 'the'], 4, inplace=True)\n"
      ],
      "execution_count": 0,
      "outputs": []
    },
    {
      "cell_type": "code",
      "metadata": {
        "id": "uT52aZewodHa",
        "colab_type": "code",
        "colab": {}
      },
      "source": [
        "def data_subset(data):\n",
        "    features = ['Pclass', 'SibSp', 'Parch', 'Sex', 'Names', 'Title', 'Age', 'Cabin'] #, 'Fare', 'Embarked']\n",
        "    lengh_features = len(features)\n",
        "    subset = data[features]#.fillna(0)\n",
        "    return subset, lengh_features"
      ],
      "execution_count": 0,
      "outputs": []
    },
    {
      "cell_type": "code",
      "metadata": {
        "id": "OYqds7RKohUb",
        "colab_type": "code",
        "colab": {}
      },
      "source": [
        "def create_model(train_set_size, input_length, num_epochs, batch_size):\n",
        "    model = Sequential()\n",
        "    model.add(Dense(7, input_dim=input_length, activation='softplus'))\n",
        "    model.add(Dense(3, activation='softplus'))\n",
        "    model.add(Dense(1, activation='softplus'))\n",
        "\n",
        "    lr = .001\n",
        "    adam0 = Adam(lr = lr)\n",
        "\n",
        "    # Modeli derleyip ve daha iyi bir sonuç elde edildiğinde ağırlıkları kaydedelim\n",
        "    model.compile(loss='binary_crossentropy', optimizer=adam0, metrics=['accuracy'])\n",
        "    filepath = 'weights.best.hdf5'\n",
        "    checkpoint = ModelCheckpoint(filepath, monitor='acc', verbose=1, save_best_only=True, mode='max')\n",
        "    callbacks_list = [checkpoint]\n",
        "\n",
        "    history_model = model.fit(X_train[:train_set_size], Y_train[:train_set_size], callbacks=callbacks_list, epochs=num_epochs, batch_size=batch_size, verbose=0) #40, 32\n",
        "    return model, history_model\n"
      ],
      "execution_count": 0,
      "outputs": []
    },
    {
      "cell_type": "code",
      "metadata": {
        "id": "pg3v_38OonHX",
        "colab_type": "code",
        "colab": {}
      },
      "source": [
        "def plots(history):\n",
        "    loss_history = history.history['loss']\n",
        "    acc_history = history.history['acc']\n",
        "    epochs = [(i + 1) for i in range(num_epochs)]\n",
        "\n",
        "    ax = plt.subplot(211)\n",
        "    ax.plot(epochs, loss_history, color='red')\n",
        "    ax.set_xlabel('Epochs')\n",
        "    ax.set_ylabel('Error Rate\\n')\n",
        "    ax.set_title('Error Rate per Epoch\\n')\n",
        "\n",
        "    ax2 = plt.subplot(212)\n",
        "    ax2.plot(epochs, acc_history, color='blue')\n",
        "    ax2.set_xlabel('Epochs')\n",
        "    ax2.set_ylabel('Accuracy\\n')\n",
        "    ax2.set_title('Accuracy per Epoch\\n')\n",
        "\n",
        "    plt.subplots_adjust(hspace=0.8)\n",
        "    plt.savefig('Accuracy_loss.png')\n",
        "    plt.close()"
      ],
      "execution_count": 0,
      "outputs": []
    },
    {
      "cell_type": "code",
      "metadata": {
        "id": "hcFNvnZlosIa",
        "colab_type": "code",
        "colab": {}
      },
      "source": [
        "def test(batch_size):\n",
        "    test = pd.read_csv('test.csv', header=0)\n",
        "    test_ids = test['PassengerId']\n",
        "    test = preprocess(test)\n",
        "    group_titles(test)\n",
        "    testdata, _ = data_subset(test)\n",
        "\n",
        "    X_test = np.array(testdata).astype(float)\n",
        "\n",
        "    output = model.predict(X_test, batch_size=batch_size, verbose=0)\n",
        "    output = output.reshape((418,))\n",
        "\n",
        "    # Sonuçları ondalık sayı yerine 0-1 olarak değiştirebilirsiniz\n",
        "    #outputBin = np.zeros(0)\n",
        "    #for element in output:\n",
        "    #    if element <= .5:\n",
        "    #         outputBin = np.append(outputBin, 0)\n",
        "    #    else:\n",
        "    #        outputBin = np.append(outputBin, 1)\n",
        "    #output = np.array(outputBin).astype(int)\n",
        "\n",
        "    column_1 = np.concatenate((['PassengerId'], test_ids ), axis=0 )\n",
        "    column_2 = np.concatenate( ( ['Survived'], output ), axis=0 )\n",
        "\n",
        "    f = open(\"output.csv\", \"w\")\n",
        "    writer = csv.writer(f)\n",
        "    for i in range(len(column_1)):\n",
        "        writer.writerow( [column_1[i]] + [column_2[i]])\n",
        "    f.close()"
      ],
      "execution_count": 0,
      "outputs": []
    },
    {
      "cell_type": "code",
      "metadata": {
        "id": "2qctvb6Yow4x",
        "colab_type": "code",
        "colab": {
          "base_uri": "https://localhost:8080/",
          "height": 442
        },
        "outputId": "32237670-976c-4aa3-8335-ab7abd7a376e"
      },
      "source": [
        "seed = 7\n",
        "np.random.seed(seed)\n",
        "\n",
        "\n",
        "train = pd.read_csv('train.csv', header=0)\n",
        "\n",
        "\n",
        "preprocess(train)\n",
        "group_titles(train)\n",
        "\n",
        "\n",
        "num_epochs = 100\n",
        "batch_size = 32\n",
        "\n",
        "\n",
        "\n",
        "traindata, lengh_features = data_subset(train)\n",
        "\n",
        "Y_train = np.array(train['Survived']).astype(int)\n",
        "X_train = np.array(traindata).astype(float)\n",
        "\n",
        "\n",
        "train_set_size = int(.67 * len(X_train))\n",
        "\n",
        "\n",
        "model, history_model = create_model(train_set_size, lengh_features, num_epochs, batch_size)\n",
        "\n",
        "plots(history_model)\n",
        "\n",
        "\n",
        "X_validation = X_train[train_set_size:]\n",
        "Y_validation = Y_train[train_set_size:]\n",
        "\n",
        "\n",
        "loss_and_metrics = model.evaluate(X_validation, Y_validation, batch_size=batch_size)\n",
        "print (\"loss_and_metrics\")\n",
        "\n",
        "test(batch_size)"
      ],
      "execution_count": 31,
      "outputs": [
        {
          "output_type": "error",
          "ename": "FileNotFoundError",
          "evalue": "ignored",
          "traceback": [
            "\u001b[0;31m---------------------------------------------------------------------------\u001b[0m",
            "\u001b[0;31mFileNotFoundError\u001b[0m                         Traceback (most recent call last)",
            "\u001b[0;32m<ipython-input-31-32a60bf078d8>\u001b[0m in \u001b[0;36m<module>\u001b[0;34m()\u001b[0m\n\u001b[1;32m      3\u001b[0m \u001b[0;34m\u001b[0m\u001b[0m\n\u001b[1;32m      4\u001b[0m \u001b[0;34m\u001b[0m\u001b[0m\n\u001b[0;32m----> 5\u001b[0;31m \u001b[0mtrain\u001b[0m \u001b[0;34m=\u001b[0m \u001b[0mpd\u001b[0m\u001b[0;34m.\u001b[0m\u001b[0mread_csv\u001b[0m\u001b[0;34m(\u001b[0m\u001b[0;34m'train.csv'\u001b[0m\u001b[0;34m,\u001b[0m \u001b[0mheader\u001b[0m\u001b[0;34m=\u001b[0m\u001b[0;36m0\u001b[0m\u001b[0;34m)\u001b[0m\u001b[0;34m\u001b[0m\u001b[0;34m\u001b[0m\u001b[0m\n\u001b[0m\u001b[1;32m      6\u001b[0m \u001b[0;34m\u001b[0m\u001b[0m\n\u001b[1;32m      7\u001b[0m \u001b[0;34m\u001b[0m\u001b[0m\n",
            "\u001b[0;32m/usr/local/lib/python3.6/dist-packages/pandas/io/parsers.py\u001b[0m in \u001b[0;36mparser_f\u001b[0;34m(filepath_or_buffer, sep, delimiter, header, names, index_col, usecols, squeeze, prefix, mangle_dupe_cols, dtype, engine, converters, true_values, false_values, skipinitialspace, skiprows, skipfooter, nrows, na_values, keep_default_na, na_filter, verbose, skip_blank_lines, parse_dates, infer_datetime_format, keep_date_col, date_parser, dayfirst, cache_dates, iterator, chunksize, compression, thousands, decimal, lineterminator, quotechar, quoting, doublequote, escapechar, comment, encoding, dialect, error_bad_lines, warn_bad_lines, delim_whitespace, low_memory, memory_map, float_precision)\u001b[0m\n\u001b[1;32m    674\u001b[0m         )\n\u001b[1;32m    675\u001b[0m \u001b[0;34m\u001b[0m\u001b[0m\n\u001b[0;32m--> 676\u001b[0;31m         \u001b[0;32mreturn\u001b[0m \u001b[0m_read\u001b[0m\u001b[0;34m(\u001b[0m\u001b[0mfilepath_or_buffer\u001b[0m\u001b[0;34m,\u001b[0m \u001b[0mkwds\u001b[0m\u001b[0;34m)\u001b[0m\u001b[0;34m\u001b[0m\u001b[0;34m\u001b[0m\u001b[0m\n\u001b[0m\u001b[1;32m    677\u001b[0m \u001b[0;34m\u001b[0m\u001b[0m\n\u001b[1;32m    678\u001b[0m     \u001b[0mparser_f\u001b[0m\u001b[0;34m.\u001b[0m\u001b[0m__name__\u001b[0m \u001b[0;34m=\u001b[0m \u001b[0mname\u001b[0m\u001b[0;34m\u001b[0m\u001b[0;34m\u001b[0m\u001b[0m\n",
            "\u001b[0;32m/usr/local/lib/python3.6/dist-packages/pandas/io/parsers.py\u001b[0m in \u001b[0;36m_read\u001b[0;34m(filepath_or_buffer, kwds)\u001b[0m\n\u001b[1;32m    446\u001b[0m \u001b[0;34m\u001b[0m\u001b[0m\n\u001b[1;32m    447\u001b[0m     \u001b[0;31m# Create the parser.\u001b[0m\u001b[0;34m\u001b[0m\u001b[0;34m\u001b[0m\u001b[0;34m\u001b[0m\u001b[0m\n\u001b[0;32m--> 448\u001b[0;31m     \u001b[0mparser\u001b[0m \u001b[0;34m=\u001b[0m \u001b[0mTextFileReader\u001b[0m\u001b[0;34m(\u001b[0m\u001b[0mfp_or_buf\u001b[0m\u001b[0;34m,\u001b[0m \u001b[0;34m**\u001b[0m\u001b[0mkwds\u001b[0m\u001b[0;34m)\u001b[0m\u001b[0;34m\u001b[0m\u001b[0;34m\u001b[0m\u001b[0m\n\u001b[0m\u001b[1;32m    449\u001b[0m \u001b[0;34m\u001b[0m\u001b[0m\n\u001b[1;32m    450\u001b[0m     \u001b[0;32mif\u001b[0m \u001b[0mchunksize\u001b[0m \u001b[0;32mor\u001b[0m \u001b[0miterator\u001b[0m\u001b[0;34m:\u001b[0m\u001b[0;34m\u001b[0m\u001b[0;34m\u001b[0m\u001b[0m\n",
            "\u001b[0;32m/usr/local/lib/python3.6/dist-packages/pandas/io/parsers.py\u001b[0m in \u001b[0;36m__init__\u001b[0;34m(self, f, engine, **kwds)\u001b[0m\n\u001b[1;32m    878\u001b[0m             \u001b[0mself\u001b[0m\u001b[0;34m.\u001b[0m\u001b[0moptions\u001b[0m\u001b[0;34m[\u001b[0m\u001b[0;34m\"has_index_names\"\u001b[0m\u001b[0;34m]\u001b[0m \u001b[0;34m=\u001b[0m \u001b[0mkwds\u001b[0m\u001b[0;34m[\u001b[0m\u001b[0;34m\"has_index_names\"\u001b[0m\u001b[0;34m]\u001b[0m\u001b[0;34m\u001b[0m\u001b[0;34m\u001b[0m\u001b[0m\n\u001b[1;32m    879\u001b[0m \u001b[0;34m\u001b[0m\u001b[0m\n\u001b[0;32m--> 880\u001b[0;31m         \u001b[0mself\u001b[0m\u001b[0;34m.\u001b[0m\u001b[0m_make_engine\u001b[0m\u001b[0;34m(\u001b[0m\u001b[0mself\u001b[0m\u001b[0;34m.\u001b[0m\u001b[0mengine\u001b[0m\u001b[0;34m)\u001b[0m\u001b[0;34m\u001b[0m\u001b[0;34m\u001b[0m\u001b[0m\n\u001b[0m\u001b[1;32m    881\u001b[0m \u001b[0;34m\u001b[0m\u001b[0m\n\u001b[1;32m    882\u001b[0m     \u001b[0;32mdef\u001b[0m \u001b[0mclose\u001b[0m\u001b[0;34m(\u001b[0m\u001b[0mself\u001b[0m\u001b[0;34m)\u001b[0m\u001b[0;34m:\u001b[0m\u001b[0;34m\u001b[0m\u001b[0;34m\u001b[0m\u001b[0m\n",
            "\u001b[0;32m/usr/local/lib/python3.6/dist-packages/pandas/io/parsers.py\u001b[0m in \u001b[0;36m_make_engine\u001b[0;34m(self, engine)\u001b[0m\n\u001b[1;32m   1112\u001b[0m     \u001b[0;32mdef\u001b[0m \u001b[0m_make_engine\u001b[0m\u001b[0;34m(\u001b[0m\u001b[0mself\u001b[0m\u001b[0;34m,\u001b[0m \u001b[0mengine\u001b[0m\u001b[0;34m=\u001b[0m\u001b[0;34m\"c\"\u001b[0m\u001b[0;34m)\u001b[0m\u001b[0;34m:\u001b[0m\u001b[0;34m\u001b[0m\u001b[0;34m\u001b[0m\u001b[0m\n\u001b[1;32m   1113\u001b[0m         \u001b[0;32mif\u001b[0m \u001b[0mengine\u001b[0m \u001b[0;34m==\u001b[0m \u001b[0;34m\"c\"\u001b[0m\u001b[0;34m:\u001b[0m\u001b[0;34m\u001b[0m\u001b[0;34m\u001b[0m\u001b[0m\n\u001b[0;32m-> 1114\u001b[0;31m             \u001b[0mself\u001b[0m\u001b[0;34m.\u001b[0m\u001b[0m_engine\u001b[0m \u001b[0;34m=\u001b[0m \u001b[0mCParserWrapper\u001b[0m\u001b[0;34m(\u001b[0m\u001b[0mself\u001b[0m\u001b[0;34m.\u001b[0m\u001b[0mf\u001b[0m\u001b[0;34m,\u001b[0m \u001b[0;34m**\u001b[0m\u001b[0mself\u001b[0m\u001b[0;34m.\u001b[0m\u001b[0moptions\u001b[0m\u001b[0;34m)\u001b[0m\u001b[0;34m\u001b[0m\u001b[0;34m\u001b[0m\u001b[0m\n\u001b[0m\u001b[1;32m   1115\u001b[0m         \u001b[0;32melse\u001b[0m\u001b[0;34m:\u001b[0m\u001b[0;34m\u001b[0m\u001b[0;34m\u001b[0m\u001b[0m\n\u001b[1;32m   1116\u001b[0m             \u001b[0;32mif\u001b[0m \u001b[0mengine\u001b[0m \u001b[0;34m==\u001b[0m \u001b[0;34m\"python\"\u001b[0m\u001b[0;34m:\u001b[0m\u001b[0;34m\u001b[0m\u001b[0;34m\u001b[0m\u001b[0m\n",
            "\u001b[0;32m/usr/local/lib/python3.6/dist-packages/pandas/io/parsers.py\u001b[0m in \u001b[0;36m__init__\u001b[0;34m(self, src, **kwds)\u001b[0m\n\u001b[1;32m   1889\u001b[0m         \u001b[0mkwds\u001b[0m\u001b[0;34m[\u001b[0m\u001b[0;34m\"usecols\"\u001b[0m\u001b[0;34m]\u001b[0m \u001b[0;34m=\u001b[0m \u001b[0mself\u001b[0m\u001b[0;34m.\u001b[0m\u001b[0musecols\u001b[0m\u001b[0;34m\u001b[0m\u001b[0;34m\u001b[0m\u001b[0m\n\u001b[1;32m   1890\u001b[0m \u001b[0;34m\u001b[0m\u001b[0m\n\u001b[0;32m-> 1891\u001b[0;31m         \u001b[0mself\u001b[0m\u001b[0;34m.\u001b[0m\u001b[0m_reader\u001b[0m \u001b[0;34m=\u001b[0m \u001b[0mparsers\u001b[0m\u001b[0;34m.\u001b[0m\u001b[0mTextReader\u001b[0m\u001b[0;34m(\u001b[0m\u001b[0msrc\u001b[0m\u001b[0;34m,\u001b[0m \u001b[0;34m**\u001b[0m\u001b[0mkwds\u001b[0m\u001b[0;34m)\u001b[0m\u001b[0;34m\u001b[0m\u001b[0;34m\u001b[0m\u001b[0m\n\u001b[0m\u001b[1;32m   1892\u001b[0m         \u001b[0mself\u001b[0m\u001b[0;34m.\u001b[0m\u001b[0munnamed_cols\u001b[0m \u001b[0;34m=\u001b[0m \u001b[0mself\u001b[0m\u001b[0;34m.\u001b[0m\u001b[0m_reader\u001b[0m\u001b[0;34m.\u001b[0m\u001b[0munnamed_cols\u001b[0m\u001b[0;34m\u001b[0m\u001b[0;34m\u001b[0m\u001b[0m\n\u001b[1;32m   1893\u001b[0m \u001b[0;34m\u001b[0m\u001b[0m\n",
            "\u001b[0;32mpandas/_libs/parsers.pyx\u001b[0m in \u001b[0;36mpandas._libs.parsers.TextReader.__cinit__\u001b[0;34m()\u001b[0m\n",
            "\u001b[0;32mpandas/_libs/parsers.pyx\u001b[0m in \u001b[0;36mpandas._libs.parsers.TextReader._setup_parser_source\u001b[0;34m()\u001b[0m\n",
            "\u001b[0;31mFileNotFoundError\u001b[0m: [Errno 2] File train.csv does not exist: 'train.csv'"
          ]
        }
      ]
    }
  ]
}